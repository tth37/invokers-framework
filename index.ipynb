{
 "cells": [
  {
   "cell_type": "code",
   "execution_count": 7,
   "metadata": {},
   "outputs": [],
   "source": [
    "from invokers_sdk import GatewayClient\n",
    "    \n",
    "client = GatewayClient(\"http://172.16.13.92:8080\")"
   ]
  },
  {
   "cell_type": "code",
   "execution_count": 8,
   "metadata": {},
   "outputs": [
    {
     "data": {
      "text/plain": [
       "['fusion-104',\n",
       " 'intel-108',\n",
       " 'intel-104',\n",
       " 'intel-105',\n",
       " 'intel-110',\n",
       " 'fusion-105',\n",
       " 'fusion-109',\n",
       " 'fusion-106',\n",
       " 'intel-109',\n",
       " 'intel-102',\n",
       " 'fusion-101',\n",
       " 'fusion-103',\n",
       " 'intel-103',\n",
       " 'fusion-110',\n",
       " 'intel-111',\n",
       " 'intel-106',\n",
       " 'intel-107',\n",
       " 'fusion-108',\n",
       " 'intel-101',\n",
       " 'fusion-102',\n",
       " 'fusion-107']"
      ]
     },
     "execution_count": 8,
     "metadata": {},
     "output_type": "execute_result"
    }
   ],
   "source": [
    "client.get_nodes()"
   ]
  },
  {
   "cell_type": "code",
   "execution_count": 6,
   "metadata": {},
   "outputs": [
    {
     "data": {
      "text/plain": [
       "{'output': 'Hello, world! (function1)\\n (function1)\\n (function1)\\n',\n",
       " 'results': [{'output': 'Hello, world! (function1)\\n',\n",
       "   'coldStartDuration': 5850,\n",
       "   'runningDuration': 62090810,\n",
       "   'startAt': '2024-07-21T17:42:49.888781043Z',\n",
       "   'endAt': '2024-07-21T17:42:49.950877903Z'},\n",
       "  {'output': 'Hello, world! (function1)\\n (function1)\\n',\n",
       "   'coldStartDuration': 7063,\n",
       "   'runningDuration': 60077309,\n",
       "   'startAt': '2024-07-21T17:42:49.955642738Z',\n",
       "   'endAt': '2024-07-21T17:42:50.015727321Z'},\n",
       "  {'output': 'Hello, world! (function1)\\n (function1)\\n (function1)\\n',\n",
       "   'coldStartDuration': 7049,\n",
       "   'runningDuration': 57169727,\n",
       "   'startAt': '2024-07-21T17:42:50.011178569Z',\n",
       "   'endAt': '2024-07-21T17:42:50.068355531Z'}]}"
      ]
     },
     "execution_count": 6,
     "metadata": {},
     "output_type": "execute_result"
    }
   ],
   "source": [
    "client.dispatch(\"Hello, world!\", [\n",
    "    {\"node\": \"intel-103\", \"function\": \"docker-registry.tth37.xyz/function1\"},\n",
    "    {\"node\": \"intel-104\", \"function\": \"docker-registry.tth37.xyz/function1\"},\n",
    "    {\"node\": \"intel-105\", \"function\": \"docker-registry.tth37.xyz/function1\"}\n",
    "])"
   ]
  },
  {
   "cell_type": "code",
   "execution_count": 4,
   "metadata": {},
   "outputs": [],
   "source": [
    "client.prewarm({\n",
    "    \"intel-103\": {\n",
    "        \"docker-registry.tth37.xyz/function1\": True\n",
    "    },\n",
    "    \"intel-104\": {\n",
    "        \"docker-registry.tth37.xyz/function1\": True\n",
    "    },\n",
    "    \"intel-105\": {\n",
    "        \"docker-registry.tth37.xyz/function1\": True\n",
    "    }\n",
    "})"
   ]
  }
 ],
 "metadata": {
  "kernelspec": {
   "display_name": "base",
   "language": "python",
   "name": "python3"
  },
  "language_info": {
   "codemirror_mode": {
    "name": "ipython",
    "version": 3
   },
   "file_extension": ".py",
   "mimetype": "text/x-python",
   "name": "python",
   "nbconvert_exporter": "python",
   "pygments_lexer": "ipython3",
   "version": "3.11.5"
  }
 },
 "nbformat": 4,
 "nbformat_minor": 2
}
