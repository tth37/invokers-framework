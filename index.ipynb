{
 "cells": [
  {
   "cell_type": "code",
   "execution_count": 4,
   "metadata": {},
   "outputs": [],
   "source": [
    "from invokers_sdk import GatewayClient\n",
    "    \n",
    "client = GatewayClient(\"http://172.16.13.92:8080\")"
   ]
  },
  {
   "cell_type": "code",
   "execution_count": 9,
   "metadata": {},
   "outputs": [
    {
     "data": {
      "text/plain": [
       "['intel-101',\n",
       " 'fusion-110',\n",
       " 'intel-111',\n",
       " 'fusion-101',\n",
       " 'intel-104',\n",
       " 'fusion-107',\n",
       " 'intel-102',\n",
       " 'fusion-105',\n",
       " 'intel-109',\n",
       " 'intel-105',\n",
       " 'fusion-103',\n",
       " 'intel-103',\n",
       " 'fusion-102',\n",
       " 'intel-107',\n",
       " 'fusion-109',\n",
       " 'intel-106',\n",
       " 'fusion-108',\n",
       " 'intel-110',\n",
       " 'fusion-106',\n",
       " 'fusion-104',\n",
       " 'intel-108']"
      ]
     },
     "execution_count": 9,
     "metadata": {},
     "output_type": "execute_result"
    }
   ],
   "source": [
    "client.get_nodes()"
   ]
  },
  {
   "cell_type": "code",
   "execution_count": 40,
   "metadata": {},
   "outputs": [],
   "source": [
    "client.prewarm({\n",
    "    \"intel-103\": {\n",
    "        \"docker-registry.tth37.xyz/function1\": False\n",
    "    },\n",
    "    \"intel-104\": {\n",
    "        \"docker-registry.tth37.xyz/function1\": False\n",
    "    },\n",
    "    \"intel-105\": {\n",
    "        \"docker-registry.tth37.xyz/function1\": False\n",
    "    }\n",
    "})"
   ]
  },
  {
   "cell_type": "code",
   "execution_count": 54,
   "metadata": {},
   "outputs": [
    {
     "data": {
      "text/plain": [
       "{'output': 'Hello, world! (function1)\\n (function1)\\n (function1)\\n',\n",
       " 'results': [{'output': 'Hello, world! (function1)\\n',\n",
       "   'coldStartDuration': 10896,\n",
       "   'runningDuration': 59372646,\n",
       "   'startAt': '2024-07-22T03:34:57.57518357Z',\n",
       "   'endAt': '2024-07-22T03:34:57.634567309Z'},\n",
       "  {'output': 'Hello, world! (function1)\\n (function1)\\n',\n",
       "   'coldStartDuration': 9993,\n",
       "   'runningDuration': 58344237,\n",
       "   'startAt': '2024-07-22T03:34:57.634796637Z',\n",
       "   'endAt': '2024-07-22T03:34:57.693151063Z'},\n",
       "  {'output': 'Hello, world! (function1)\\n (function1)\\n (function1)\\n',\n",
       "   'coldStartDuration': 9321,\n",
       "   'runningDuration': 59888358,\n",
       "   'startAt': '2024-07-22T03:34:57.695886295Z',\n",
       "   'endAt': '2024-07-22T03:34:57.755784174Z'}]}"
      ]
     },
     "execution_count": 54,
     "metadata": {},
     "output_type": "execute_result"
    }
   ],
   "source": [
    "client.dispatch(\"Hello, world!\", [\n",
    "    {\"node\": \"intel-103\", \"function\": \"docker-registry.tth37.xyz/function1\"},\n",
    "    {\"node\": \"intel-104\", \"function\": \"docker-registry.tth37.xyz/function1\"},\n",
    "    {\"node\": \"intel-105\", \"function\": \"docker-registry.tth37.xyz/function1\"}\n",
    "])"
   ]
  }
 ],
 "metadata": {
  "kernelspec": {
   "display_name": "base",
   "language": "python",
   "name": "python3"
  },
  "language_info": {
   "codemirror_mode": {
    "name": "ipython",
    "version": 3
   },
   "file_extension": ".py",
   "mimetype": "text/x-python",
   "name": "python",
   "nbconvert_exporter": "python",
   "pygments_lexer": "ipython3",
   "version": "3.11.5"
  }
 },
 "nbformat": 4,
 "nbformat_minor": 2
}
